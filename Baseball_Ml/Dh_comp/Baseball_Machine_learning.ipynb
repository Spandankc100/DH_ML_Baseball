{
 "cells": [
  {
   "cell_type": "code",
   "execution_count": 1,
   "id": "eba06dcd-03f6-447b-b565-308319a69c19",
   "metadata": {},
   "outputs": [],
   "source": [
    "import polars as pl"
   ]
  },
  {
   "cell_type": "code",
   "execution_count": 25,
   "id": "8730cba7-fe79-4489-93fa-edceb41266c5",
   "metadata": {},
   "outputs": [
    {
     "data": {
      "text/html": [
       "<div><style>\n",
       ".dataframe > thead > tr,\n",
       ".dataframe > tbody > tr {\n",
       "  text-align: right;\n",
       "  white-space: pre-wrap;\n",
       "}\n",
       "</style>\n",
       "<small>shape: (5, 18)</small><table border=\"1\" class=\"dataframe\"><thead><tr><th>playerID</th><th>yearID</th><th>stint</th><th>teamID</th><th>lgID</th><th>POS</th><th>G</th><th>GS</th><th>InnOuts</th><th>PO</th><th>A</th><th>E</th><th>DP</th><th>PB</th><th>WP</th><th>SB</th><th>CS</th><th>ZR</th></tr><tr><td>str</td><td>i64</td><td>i64</td><td>str</td><td>str</td><td>str</td><td>i64</td><td>i64</td><td>i64</td><td>i64</td><td>i64</td><td>i64</td><td>i64</td><td>str</td><td>str</td><td>str</td><td>str</td><td>str</td></tr></thead><tbody><tr><td>&quot;aardsda01&quot;</td><td>2004</td><td>1</td><td>&quot;SFN&quot;</td><td>&quot;NL&quot;</td><td>&quot;P&quot;</td><td>11</td><td>0</td><td>32</td><td>0</td><td>0</td><td>0</td><td>0</td><td>null</td><td>null</td><td>null</td><td>null</td><td>null</td></tr><tr><td>&quot;aardsda01&quot;</td><td>2006</td><td>1</td><td>&quot;CHN&quot;</td><td>&quot;NL&quot;</td><td>&quot;P&quot;</td><td>45</td><td>0</td><td>159</td><td>1</td><td>5</td><td>0</td><td>1</td><td>null</td><td>null</td><td>null</td><td>null</td><td>null</td></tr><tr><td>&quot;aardsda01&quot;</td><td>2007</td><td>1</td><td>&quot;CHA&quot;</td><td>&quot;AL&quot;</td><td>&quot;P&quot;</td><td>25</td><td>0</td><td>97</td><td>2</td><td>4</td><td>1</td><td>0</td><td>null</td><td>null</td><td>null</td><td>null</td><td>null</td></tr><tr><td>&quot;aardsda01&quot;</td><td>2008</td><td>1</td><td>&quot;BOS&quot;</td><td>&quot;AL&quot;</td><td>&quot;P&quot;</td><td>47</td><td>0</td><td>146</td><td>3</td><td>6</td><td>0</td><td>0</td><td>null</td><td>null</td><td>null</td><td>null</td><td>null</td></tr><tr><td>&quot;aardsda01&quot;</td><td>2009</td><td>1</td><td>&quot;SEA&quot;</td><td>&quot;AL&quot;</td><td>&quot;P&quot;</td><td>73</td><td>0</td><td>214</td><td>2</td><td>5</td><td>0</td><td>1</td><td>null</td><td>null</td><td>null</td><td>null</td><td>null</td></tr></tbody></table></div>"
      ],
      "text/plain": [
       "shape: (5, 18)\n",
       "┌───────────┬────────┬───────┬────────┬───┬──────┬──────┬──────┬──────┐\n",
       "│ playerID  ┆ yearID ┆ stint ┆ teamID ┆ … ┆ WP   ┆ SB   ┆ CS   ┆ ZR   │\n",
       "│ ---       ┆ ---    ┆ ---   ┆ ---    ┆   ┆ ---  ┆ ---  ┆ ---  ┆ ---  │\n",
       "│ str       ┆ i64    ┆ i64   ┆ str    ┆   ┆ str  ┆ str  ┆ str  ┆ str  │\n",
       "╞═══════════╪════════╪═══════╪════════╪═══╪══════╪══════╪══════╪══════╡\n",
       "│ aardsda01 ┆ 2004   ┆ 1     ┆ SFN    ┆ … ┆ null ┆ null ┆ null ┆ null │\n",
       "│ aardsda01 ┆ 2006   ┆ 1     ┆ CHN    ┆ … ┆ null ┆ null ┆ null ┆ null │\n",
       "│ aardsda01 ┆ 2007   ┆ 1     ┆ CHA    ┆ … ┆ null ┆ null ┆ null ┆ null │\n",
       "│ aardsda01 ┆ 2008   ┆ 1     ┆ BOS    ┆ … ┆ null ┆ null ┆ null ┆ null │\n",
       "│ aardsda01 ┆ 2009   ┆ 1     ┆ SEA    ┆ … ┆ null ┆ null ┆ null ┆ null │\n",
       "└───────────┴────────┴───────┴────────┴───┴──────┴──────┴──────┴──────┘"
      ]
     },
     "execution_count": 25,
     "metadata": {},
     "output_type": "execute_result"
    }
   ],
   "source": [
    "#Gold Glove Award Dataset\n",
    "# Reading the Fielding.csv file\n",
    "fielding = pl.read_csv(\"./data/lahman_1871-2023_csv/Fielding.csv\")\n",
    "fielding.head()"
   ]
  },
  {
   "cell_type": "code",
   "execution_count": 26,
   "id": "8bb4a761-7e6a-472f-8562-4618152274bc",
   "metadata": {},
   "outputs": [
    {
     "data": {
      "text/html": [
       "<div><style>\n",
       ".dataframe > thead > tr,\n",
       ".dataframe > tbody > tr {\n",
       "  text-align: right;\n",
       "  white-space: pre-wrap;\n",
       "}\n",
       "</style>\n",
       "<small>shape: (22_237, 4)</small><table border=\"1\" class=\"dataframe\"><thead><tr><th>playerID</th><th>yearID</th><th>lgID</th><th>POS</th></tr><tr><td>str</td><td>i64</td><td>str</td><td>str</td></tr></thead><tbody><tr><td>&quot;aardsda01&quot;</td><td>2013</td><td>&quot;NL&quot;</td><td>&quot;P&quot;</td></tr><tr><td>&quot;aardsda01&quot;</td><td>2015</td><td>&quot;NL&quot;</td><td>&quot;P&quot;</td></tr><tr><td>&quot;abadfe01&quot;</td><td>2013</td><td>&quot;NL&quot;</td><td>&quot;P&quot;</td></tr><tr><td>&quot;abadfe01&quot;</td><td>2014</td><td>&quot;AL&quot;</td><td>&quot;P&quot;</td></tr><tr><td>&quot;abadfe01&quot;</td><td>2015</td><td>&quot;AL&quot;</td><td>&quot;P&quot;</td></tr><tr><td>&hellip;</td><td>&hellip;</td><td>&hellip;</td><td>&hellip;</td></tr><tr><td>&quot;zuninmi01&quot;</td><td>2022</td><td>&quot;AL&quot;</td><td>&quot;C&quot;</td></tr><tr><td>&quot;zuninmi01&quot;</td><td>2023</td><td>&quot;AL&quot;</td><td>&quot;C&quot;</td></tr><tr><td>&quot;zychto01&quot;</td><td>2015</td><td>&quot;AL&quot;</td><td>&quot;P&quot;</td></tr><tr><td>&quot;zychto01&quot;</td><td>2016</td><td>&quot;AL&quot;</td><td>&quot;P&quot;</td></tr><tr><td>&quot;zychto01&quot;</td><td>2017</td><td>&quot;AL&quot;</td><td>&quot;P&quot;</td></tr></tbody></table></div>"
      ],
      "text/plain": [
       "shape: (22_237, 4)\n",
       "┌───────────┬────────┬──────┬─────┐\n",
       "│ playerID  ┆ yearID ┆ lgID ┆ POS │\n",
       "│ ---       ┆ ---    ┆ ---  ┆ --- │\n",
       "│ str       ┆ i64    ┆ str  ┆ str │\n",
       "╞═══════════╪════════╪══════╪═════╡\n",
       "│ aardsda01 ┆ 2013   ┆ NL   ┆ P   │\n",
       "│ aardsda01 ┆ 2015   ┆ NL   ┆ P   │\n",
       "│ abadfe01  ┆ 2013   ┆ NL   ┆ P   │\n",
       "│ abadfe01  ┆ 2014   ┆ AL   ┆ P   │\n",
       "│ abadfe01  ┆ 2015   ┆ AL   ┆ P   │\n",
       "│ …         ┆ …      ┆ …    ┆ …   │\n",
       "│ zuninmi01 ┆ 2022   ┆ AL   ┆ C   │\n",
       "│ zuninmi01 ┆ 2023   ┆ AL   ┆ C   │\n",
       "│ zychto01  ┆ 2015   ┆ AL   ┆ P   │\n",
       "│ zychto01  ┆ 2016   ┆ AL   ┆ P   │\n",
       "│ zychto01  ┆ 2017   ┆ AL   ┆ P   │\n",
       "└───────────┴────────┴──────┴─────┘"
      ]
     },
     "execution_count": 26,
     "metadata": {},
     "output_type": "execute_result"
    }
   ],
   "source": [
    "#Clean the Fielding Data\n",
    "# Cleaning the Fielding data to include only relevant columns and data from 2013 onwards\n",
    "fielding_clean = (fielding\n",
    "                 .select(['playerID', 'yearID', 'lgID', 'POS'])\n",
    "                 .filter(pl.col('yearID') >= 2013)\n",
    "                 )\n",
    "fielding_clean\n"
   ]
  },
  {
   "cell_type": "code",
   "execution_count": 27,
   "id": "128585df-a83e-416f-9903-abb478e547e0",
   "metadata": {},
   "outputs": [
    {
     "data": {
      "text/html": [
       "<div><style>\n",
       ".dataframe > thead > tr,\n",
       ".dataframe > tbody > tr {\n",
       "  text-align: right;\n",
       "  white-space: pre-wrap;\n",
       "}\n",
       "</style>\n",
       "<small>shape: (5, 6)</small><table border=\"1\" class=\"dataframe\"><thead><tr><th>playerID</th><th>awardID</th><th>yearID</th><th>lgID</th><th>tie</th><th>notes</th></tr><tr><td>str</td><td>str</td><td>i64</td><td>str</td><td>str</td><td>str</td></tr></thead><tbody><tr><td>&quot;poseybu01&quot;</td><td>&quot;Lou Gehrig Memorial Award&quot;</td><td>2019</td><td>&quot;ML&quot;</td><td>null</td><td>null</td></tr><tr><td>&quot;klubeco01&quot;</td><td>&quot;Lou Gehrig Memorial Award&quot;</td><td>2018</td><td>&quot;ML&quot;</td><td>null</td><td>null</td></tr><tr><td>&quot;vottojo01&quot;</td><td>&quot;Lou Gehrig Memorial Award&quot;</td><td>2017</td><td>&quot;ML&quot;</td><td>null</td><td>null</td></tr><tr><td>&quot;altuvjo01&quot;</td><td>&quot;Lou Gehrig Memorial Award&quot;</td><td>2016</td><td>&quot;ML&quot;</td><td>null</td><td>null</td></tr><tr><td>&quot;grandcu01&quot;</td><td>&quot;Lou Gehrig Memorial Award&quot;</td><td>2015</td><td>&quot;ML&quot;</td><td>null</td><td>null</td></tr></tbody></table></div>"
      ],
      "text/plain": [
       "shape: (5, 6)\n",
       "┌───────────┬───────────────────────────┬────────┬──────┬──────┬───────┐\n",
       "│ playerID  ┆ awardID                   ┆ yearID ┆ lgID ┆ tie  ┆ notes │\n",
       "│ ---       ┆ ---                       ┆ ---    ┆ ---  ┆ ---  ┆ ---   │\n",
       "│ str       ┆ str                       ┆ i64    ┆ str  ┆ str  ┆ str   │\n",
       "╞═══════════╪═══════════════════════════╪════════╪══════╪══════╪═══════╡\n",
       "│ poseybu01 ┆ Lou Gehrig Memorial Award ┆ 2019   ┆ ML   ┆ null ┆ null  │\n",
       "│ klubeco01 ┆ Lou Gehrig Memorial Award ┆ 2018   ┆ ML   ┆ null ┆ null  │\n",
       "│ vottojo01 ┆ Lou Gehrig Memorial Award ┆ 2017   ┆ ML   ┆ null ┆ null  │\n",
       "│ altuvjo01 ┆ Lou Gehrig Memorial Award ┆ 2016   ┆ ML   ┆ null ┆ null  │\n",
       "│ grandcu01 ┆ Lou Gehrig Memorial Award ┆ 2015   ┆ ML   ┆ null ┆ null  │\n",
       "└───────────┴───────────────────────────┴────────┴──────┴──────┴───────┘"
      ]
     },
     "execution_count": 27,
     "metadata": {},
     "output_type": "execute_result"
    }
   ],
   "source": [
    "#Read in the Awards Data\n",
    "# Reading the AwardsPlayers.csv file\n",
    "awards_players = pl.read_csv(\"./data/lahman_1871-2023_csv/AwardsPlayers.csv\")\n",
    "awards_players.head()\n"
   ]
  },
  {
   "cell_type": "code",
   "execution_count": 28,
   "id": "81a53104-d36a-47dc-a759-c985e7f32f98",
   "metadata": {},
   "outputs": [
    {
     "data": {
      "text/html": [
       "<div><style>\n",
       ".dataframe > thead > tr,\n",
       ".dataframe > tbody > tr {\n",
       "  text-align: right;\n",
       "  white-space: pre-wrap;\n",
       "}\n",
       "</style>\n",
       "<small>shape: (203, 5)</small><table border=\"1\" class=\"dataframe\"><thead><tr><th>playerID</th><th>yearID</th><th>lgID</th><th>awardID</th><th>notes</th></tr><tr><td>str</td><td>i64</td><td>str</td><td>str</td><td>str</td></tr></thead><tbody><tr><td>&quot;kineris01&quot;</td><td>2020</td><td>&quot;AL&quot;</td><td>&quot;Gold Glove&quot;</td><td>&quot;3B&quot;</td></tr><tr><td>&quot;crawfjp01&quot;</td><td>2020</td><td>&quot;AL&quot;</td><td>&quot;Gold Glove&quot;</td><td>&quot;SS&quot;</td></tr><tr><td>&quot;roberlu01&quot;</td><td>2020</td><td>&quot;AL&quot;</td><td>&quot;Gold Glove&quot;</td><td>&quot;LF&quot;</td></tr><tr><td>&quot;gordoal01&quot;</td><td>2020</td><td>&quot;AL&quot;</td><td>&quot;Gold Glove&quot;</td><td>&quot;CF&quot;</td></tr><tr><td>&quot;gallojo01&quot;</td><td>2020</td><td>&quot;AL&quot;</td><td>&quot;Gold Glove&quot;</td><td>&quot;RF&quot;</td></tr><tr><td>&hellip;</td><td>&hellip;</td><td>&hellip;</td><td>&hellip;</td><td>&hellip;</td></tr><tr><td>&quot;barnhtu01&quot;</td><td>2017</td><td>&quot;NL&quot;</td><td>&quot;Gold Glove&quot;</td><td>&quot;C&quot;</td></tr><tr><td>&quot;goldspa01&quot;</td><td>2017</td><td>&quot;NL&quot;</td><td>&quot;Gold Glove&quot;</td><td>&quot;1B&quot;</td></tr><tr><td>&quot;lemahdj01&quot;</td><td>2017</td><td>&quot;NL&quot;</td><td>&quot;Gold Glove&quot;</td><td>&quot;2B&quot;</td></tr><tr><td>&quot;arenano01&quot;</td><td>2017</td><td>&quot;NL&quot;</td><td>&quot;Gold Glove&quot;</td><td>&quot;3B&quot;</td></tr><tr><td>&quot;crawfbr01&quot;</td><td>2017</td><td>&quot;NL&quot;</td><td>&quot;Gold Glove&quot;</td><td>&quot;SS&quot;</td></tr></tbody></table></div>"
      ],
      "text/plain": [
       "shape: (203, 5)\n",
       "┌───────────┬────────┬──────┬────────────┬───────┐\n",
       "│ playerID  ┆ yearID ┆ lgID ┆ awardID    ┆ notes │\n",
       "│ ---       ┆ ---    ┆ ---  ┆ ---        ┆ ---   │\n",
       "│ str       ┆ i64    ┆ str  ┆ str        ┆ str   │\n",
       "╞═══════════╪════════╪══════╪════════════╪═══════╡\n",
       "│ kineris01 ┆ 2020   ┆ AL   ┆ Gold Glove ┆ 3B    │\n",
       "│ crawfjp01 ┆ 2020   ┆ AL   ┆ Gold Glove ┆ SS    │\n",
       "│ roberlu01 ┆ 2020   ┆ AL   ┆ Gold Glove ┆ LF    │\n",
       "│ gordoal01 ┆ 2020   ┆ AL   ┆ Gold Glove ┆ CF    │\n",
       "│ gallojo01 ┆ 2020   ┆ AL   ┆ Gold Glove ┆ RF    │\n",
       "│ …         ┆ …      ┆ …    ┆ …          ┆ …     │\n",
       "│ barnhtu01 ┆ 2017   ┆ NL   ┆ Gold Glove ┆ C     │\n",
       "│ goldspa01 ┆ 2017   ┆ NL   ┆ Gold Glove ┆ 1B    │\n",
       "│ lemahdj01 ┆ 2017   ┆ NL   ┆ Gold Glove ┆ 2B    │\n",
       "│ arenano01 ┆ 2017   ┆ NL   ┆ Gold Glove ┆ 3B    │\n",
       "│ crawfbr01 ┆ 2017   ┆ NL   ┆ Gold Glove ┆ SS    │\n",
       "└───────────┴────────┴──────┴────────────┴───────┘"
      ]
     },
     "execution_count": 28,
     "metadata": {},
     "output_type": "execute_result"
    }
   ],
   "source": [
    "#Filter Awards Data for Gold Glove Awards\n",
    "# Checking the name of the award and cleaning the Awards data to include only Gold Glove awards from 2013 onwards\n",
    "awards_clean = (awards_players\n",
    "                .select(['playerID', 'yearID', 'lgID', 'awardID', 'notes'])\n",
    "                .filter(pl.col('yearID') >= 2013)\n",
    "                .filter(pl.col('awardID') == 'Gold Glove')\n",
    "         )\n",
    "awards_clean\n"
   ]
  },
  {
   "cell_type": "code",
   "execution_count": 29,
   "id": "1305bf93-36a2-4100-9759-4fe6a7249837",
   "metadata": {},
   "outputs": [
    {
     "data": {
      "text/html": [
       "<div><style>\n",
       ".dataframe > thead > tr,\n",
       ".dataframe > tbody > tr {\n",
       "  text-align: right;\n",
       "  white-space: pre-wrap;\n",
       "}\n",
       "</style>\n",
       "<small>shape: (22_237, 7)</small><table border=\"1\" class=\"dataframe\"><thead><tr><th>playerID</th><th>yearID</th><th>lgID</th><th>POS</th><th>awardID</th><th>gold_glove</th><th>Training_Validation</th></tr><tr><td>str</td><td>i64</td><td>str</td><td>str</td><td>str</td><td>str</td><td>str</td></tr></thead><tbody><tr><td>&quot;aardsda01&quot;</td><td>2013</td><td>&quot;NL&quot;</td><td>&quot;P&quot;</td><td>null</td><td>&quot;NO&quot;</td><td>&quot;Training&quot;</td></tr><tr><td>&quot;aardsda01&quot;</td><td>2015</td><td>&quot;NL&quot;</td><td>&quot;P&quot;</td><td>null</td><td>&quot;NO&quot;</td><td>&quot;Training&quot;</td></tr><tr><td>&quot;abadfe01&quot;</td><td>2013</td><td>&quot;NL&quot;</td><td>&quot;P&quot;</td><td>null</td><td>&quot;NO&quot;</td><td>&quot;Training&quot;</td></tr><tr><td>&quot;abadfe01&quot;</td><td>2014</td><td>&quot;AL&quot;</td><td>&quot;P&quot;</td><td>null</td><td>&quot;NO&quot;</td><td>&quot;Training&quot;</td></tr><tr><td>&quot;abadfe01&quot;</td><td>2015</td><td>&quot;AL&quot;</td><td>&quot;P&quot;</td><td>null</td><td>&quot;NO&quot;</td><td>&quot;Training&quot;</td></tr><tr><td>&hellip;</td><td>&hellip;</td><td>&hellip;</td><td>&hellip;</td><td>&hellip;</td><td>&hellip;</td><td>&hellip;</td></tr><tr><td>&quot;zuninmi01&quot;</td><td>2022</td><td>&quot;AL&quot;</td><td>&quot;C&quot;</td><td>null</td><td>&quot;NO&quot;</td><td>&quot;Training&quot;</td></tr><tr><td>&quot;zuninmi01&quot;</td><td>2023</td><td>&quot;AL&quot;</td><td>&quot;C&quot;</td><td>null</td><td>&quot;NO&quot;</td><td>&quot;Validation&quot;</td></tr><tr><td>&quot;zychto01&quot;</td><td>2015</td><td>&quot;AL&quot;</td><td>&quot;P&quot;</td><td>null</td><td>&quot;NO&quot;</td><td>&quot;Training&quot;</td></tr><tr><td>&quot;zychto01&quot;</td><td>2016</td><td>&quot;AL&quot;</td><td>&quot;P&quot;</td><td>null</td><td>&quot;NO&quot;</td><td>&quot;Training&quot;</td></tr><tr><td>&quot;zychto01&quot;</td><td>2017</td><td>&quot;AL&quot;</td><td>&quot;P&quot;</td><td>null</td><td>&quot;NO&quot;</td><td>&quot;Training&quot;</td></tr></tbody></table></div>"
      ],
      "text/plain": [
       "shape: (22_237, 7)\n",
       "┌───────────┬────────┬──────┬─────┬─────────┬────────────┬─────────────────────┐\n",
       "│ playerID  ┆ yearID ┆ lgID ┆ POS ┆ awardID ┆ gold_glove ┆ Training_Validation │\n",
       "│ ---       ┆ ---    ┆ ---  ┆ --- ┆ ---     ┆ ---        ┆ ---                 │\n",
       "│ str       ┆ i64    ┆ str  ┆ str ┆ str     ┆ str        ┆ str                 │\n",
       "╞═══════════╪════════╪══════╪═════╪═════════╪════════════╪═════════════════════╡\n",
       "│ aardsda01 ┆ 2013   ┆ NL   ┆ P   ┆ null    ┆ NO         ┆ Training            │\n",
       "│ aardsda01 ┆ 2015   ┆ NL   ┆ P   ┆ null    ┆ NO         ┆ Training            │\n",
       "│ abadfe01  ┆ 2013   ┆ NL   ┆ P   ┆ null    ┆ NO         ┆ Training            │\n",
       "│ abadfe01  ┆ 2014   ┆ AL   ┆ P   ┆ null    ┆ NO         ┆ Training            │\n",
       "│ abadfe01  ┆ 2015   ┆ AL   ┆ P   ┆ null    ┆ NO         ┆ Training            │\n",
       "│ …         ┆ …      ┆ …    ┆ …   ┆ …       ┆ …          ┆ …                   │\n",
       "│ zuninmi01 ┆ 2022   ┆ AL   ┆ C   ┆ null    ┆ NO         ┆ Training            │\n",
       "│ zuninmi01 ┆ 2023   ┆ AL   ┆ C   ┆ null    ┆ NO         ┆ Validation          │\n",
       "│ zychto01  ┆ 2015   ┆ AL   ┆ P   ┆ null    ┆ NO         ┆ Training            │\n",
       "│ zychto01  ┆ 2016   ┆ AL   ┆ P   ┆ null    ┆ NO         ┆ Training            │\n",
       "│ zychto01  ┆ 2017   ┆ AL   ┆ P   ┆ null    ┆ NO         ┆ Training            │\n",
       "└───────────┴────────┴──────┴─────┴─────────┴────────────┴─────────────────────┘"
      ]
     },
     "execution_count": 29,
     "metadata": {},
     "output_type": "execute_result"
    }
   ],
   "source": [
    "#Join Fielding and Awards Data\n",
    "# Left join of fielding and awards data to retain all players, adding labels for Gold Glove winners\n",
    "gold_glove = (fielding_clean\n",
    "              .join(awards_clean,\n",
    "                    left_on = ['playerID', 'yearID', 'lgID', 'POS'],\n",
    "                    right_on = ['playerID', 'yearID', 'lgID', 'notes'],\n",
    "                    how = 'left'\n",
    "                   )\n",
    "              .with_columns(gold_glove = pl.when(pl.col('awardID') == 'Gold Glove')\n",
    "                                           .then(pl.lit('Yes'))\n",
    "                                           .otherwise(pl.lit('NO')),\n",
    "                            Training_Validation = pl.when(pl.col('yearID') == 2023)\n",
    "                                                    .then(pl.lit('Validation'))\n",
    "                                                    .otherwise(pl.lit('Training'))\n",
    "                                              )\n",
    "             )\n",
    "gold_glove\n"
   ]
  },
  {
   "cell_type": "code",
   "execution_count": 30,
   "id": "16701439-2cb4-46cb-8e36-17c362bb555e",
   "metadata": {},
   "outputs": [],
   "source": [
    "#Save the Gold Glove Dataset\n",
    "# Saving the gold glove dataset to a CSV file\n",
    "gold_glove.write_csv(\"./data/gold_glove.csv\")\n"
   ]
  },
  {
   "cell_type": "code",
   "execution_count": 31,
   "id": "065fadde-e41a-4c44-b588-656b9be098ea",
   "metadata": {},
   "outputs": [
    {
     "data": {
      "text/html": [
       "<div><style>\n",
       ".dataframe > thead > tr,\n",
       ".dataframe > tbody > tr {\n",
       "  text-align: right;\n",
       "  white-space: pre-wrap;\n",
       "}\n",
       "</style>\n",
       "<small>shape: (5, 3)</small><table border=\"1\" class=\"dataframe\"><thead><tr><th>playerID</th><th>yearID</th><th>salary</th></tr><tr><td>str</td><td>i64</td><td>f64</td></tr></thead><tbody><tr><td>&quot;wrighmi01&quot;</td><td>2016</td><td>510500.0</td></tr><tr><td>&quot;millewa04&quot;</td><td>2006</td><td>1e6</td></tr><tr><td>&quot;boyerbl01&quot;</td><td>2008</td><td>390000.0</td></tr><tr><td>&quot;weeksri01&quot;</td><td>2008</td><td>1.056e6</td></tr><tr><td>&quot;romerjc01&quot;</td><td>2007</td><td>1.6e6</td></tr></tbody></table></div>"
      ],
      "text/plain": [
       "shape: (5, 3)\n",
       "┌───────────┬────────┬──────────┐\n",
       "│ playerID  ┆ yearID ┆ salary   │\n",
       "│ ---       ┆ ---    ┆ ---      │\n",
       "│ str       ┆ i64    ┆ f64      │\n",
       "╞═══════════╪════════╪══════════╡\n",
       "│ wrighmi01 ┆ 2016   ┆ 510500.0 │\n",
       "│ millewa04 ┆ 2006   ┆ 1e6      │\n",
       "│ boyerbl01 ┆ 2008   ┆ 390000.0 │\n",
       "│ weeksri01 ┆ 2008   ┆ 1.056e6  │\n",
       "│ romerjc01 ┆ 2007   ┆ 1.6e6    │\n",
       "└───────────┴────────┴──────────┘"
      ]
     },
     "execution_count": 31,
     "metadata": {},
     "output_type": "execute_result"
    }
   ],
   "source": [
    "# Salary Prediction Dataset\n",
    "# Reading the Salaries.csv file and cleaning data from 2006 onwards\n",
    "salaries = pl.read_csv(\"./data/lahman_1871-2023_csv/Salaries.csv\")\n",
    "salaries_clean = (salaries\n",
    "                  .filter(pl.col('yearID') >= 2006)\n",
    "                  .group_by(['playerID','yearID'])\n",
    "                  .mean()\n",
    "                  .drop(['teamID','lgID'])\n",
    "                 )\n",
    "salaries_clean.head()\n"
   ]
  },
  {
   "cell_type": "code",
   "execution_count": 32,
   "id": "8a6f3300-7ceb-4d29-91f9-0d2633348028",
   "metadata": {},
   "outputs": [
    {
     "data": {
      "text/html": [
       "<div><style>\n",
       ".dataframe > thead > tr,\n",
       ".dataframe > tbody > tr {\n",
       "  text-align: right;\n",
       "  white-space: pre-wrap;\n",
       "}\n",
       "</style>\n",
       "<small>shape: (14_230, 21)</small><table border=\"1\" class=\"dataframe\"><thead><tr><th>playerID</th><th>yearID</th><th>stint</th><th>G</th><th>G_batting</th><th>AB</th><th>R</th><th>H</th><th>2B</th><th>3B</th><th>HR</th><th>RBI</th><th>SB</th><th>CS</th><th>BB</th><th>SO</th><th>IBB</th><th>HBP</th><th>SH</th><th>SF</th><th>GIDP</th></tr><tr><td>str</td><td>i64</td><td>i64</td><td>i64</td><td>i64</td><td>i64</td><td>i64</td><td>i64</td><td>i64</td><td>i64</td><td>i64</td><td>i64</td><td>i64</td><td>i64</td><td>i64</td><td>i64</td><td>i64</td><td>i64</td><td>i64</td><td>i64</td><td>i64</td></tr></thead><tbody><tr><td>&quot;soriajo01&quot;</td><td>2011</td><td>1</td><td>60</td><td>0</td><td>0</td><td>0</td><td>0</td><td>0</td><td>0</td><td>0</td><td>0</td><td>0</td><td>0</td><td>0</td><td>0</td><td>0</td><td>0</td><td>0</td><td>0</td><td>0</td></tr><tr><td>&quot;roberry01&quot;</td><td>2010</td><td>1</td><td>36</td><td>0</td><td>66</td><td>8</td><td>13</td><td>4</td><td>0</td><td>2</td><td>9</td><td>0</td><td>0</td><td>3</td><td>17</td><td>1</td><td>0</td><td>1</td><td>1</td><td>0</td></tr><tr><td>&quot;greinza01&quot;</td><td>2006</td><td>1</td><td>3</td><td>0</td><td>0</td><td>0</td><td>0</td><td>0</td><td>0</td><td>0</td><td>0</td><td>0</td><td>0</td><td>0</td><td>0</td><td>0</td><td>0</td><td>0</td><td>0</td><td>0</td></tr><tr><td>&quot;wagnebi02&quot;</td><td>2009</td><td>3</td><td>17</td><td>0</td><td>0</td><td>0</td><td>0</td><td>0</td><td>0</td><td>0</td><td>0</td><td>0</td><td>0</td><td>0</td><td>0</td><td>0</td><td>0</td><td>0</td><td>0</td><td>0</td></tr><tr><td>&quot;putzjj01&quot;</td><td>2014</td><td>1</td><td>18</td><td>0</td><td>0</td><td>0</td><td>0</td><td>0</td><td>0</td><td>0</td><td>0</td><td>0</td><td>0</td><td>0</td><td>0</td><td>0</td><td>0</td><td>0</td><td>0</td><td>0</td></tr><tr><td>&hellip;</td><td>&hellip;</td><td>&hellip;</td><td>&hellip;</td><td>&hellip;</td><td>&hellip;</td><td>&hellip;</td><td>&hellip;</td><td>&hellip;</td><td>&hellip;</td><td>&hellip;</td><td>&hellip;</td><td>&hellip;</td><td>&hellip;</td><td>&hellip;</td><td>&hellip;</td><td>&hellip;</td><td>&hellip;</td><td>&hellip;</td><td>&hellip;</td><td>&hellip;</td></tr><tr><td>&quot;thatcjo01&quot;</td><td>2013</td><td>3</td><td>72</td><td>0</td><td>0</td><td>0</td><td>0</td><td>0</td><td>0</td><td>0</td><td>0</td><td>0</td><td>0</td><td>0</td><td>0</td><td>0</td><td>0</td><td>0</td><td>0</td><td>0</td></tr><tr><td>&quot;wilsobo02&quot;</td><td>2011</td><td>1</td><td>57</td><td>0</td><td>111</td><td>5</td><td>21</td><td>8</td><td>0</td><td>1</td><td>8</td><td>0</td><td>2</td><td>10</td><td>16</td><td>1</td><td>0</td><td>4</td><td>2</td><td>2</td></tr><tr><td>&quot;grossga01&quot;</td><td>2010</td><td>1</td><td>105</td><td>0</td><td>222</td><td>27</td><td>53</td><td>11</td><td>1</td><td>1</td><td>25</td><td>5</td><td>1</td><td>17</td><td>39</td><td>2</td><td>0</td><td>2</td><td>2</td><td>5</td></tr><tr><td>&quot;hazelje01&quot;</td><td>2016</td><td>1</td><td>114</td><td>0</td><td>200</td><td>35</td><td>47</td><td>7</td><td>3</td><td>12</td><td>28</td><td>5</td><td>2</td><td>18</td><td>64</td><td>2</td><td>0</td><td>4</td><td>2</td><td>1</td></tr><tr><td>&quot;johjike01&quot;</td><td>2006</td><td>1</td><td>144</td><td>0</td><td>506</td><td>61</td><td>147</td><td>25</td><td>1</td><td>18</td><td>76</td><td>3</td><td>1</td><td>20</td><td>46</td><td>1</td><td>13</td><td>0</td><td>3</td><td>15</td></tr></tbody></table></div>"
      ],
      "text/plain": [
       "shape: (14_230, 21)\n",
       "┌───────────┬────────┬───────┬─────┬───┬─────┬─────┬─────┬──────┐\n",
       "│ playerID  ┆ yearID ┆ stint ┆ G   ┆ … ┆ HBP ┆ SH  ┆ SF  ┆ GIDP │\n",
       "│ ---       ┆ ---    ┆ ---   ┆ --- ┆   ┆ --- ┆ --- ┆ --- ┆ ---  │\n",
       "│ str       ┆ i64    ┆ i64   ┆ i64 ┆   ┆ i64 ┆ i64 ┆ i64 ┆ i64  │\n",
       "╞═══════════╪════════╪═══════╪═════╪═══╪═════╪═════╪═════╪══════╡\n",
       "│ soriajo01 ┆ 2011   ┆ 1     ┆ 60  ┆ … ┆ 0   ┆ 0   ┆ 0   ┆ 0    │\n",
       "│ roberry01 ┆ 2010   ┆ 1     ┆ 36  ┆ … ┆ 0   ┆ 1   ┆ 1   ┆ 0    │\n",
       "│ greinza01 ┆ 2006   ┆ 1     ┆ 3   ┆ … ┆ 0   ┆ 0   ┆ 0   ┆ 0    │\n",
       "│ wagnebi02 ┆ 2009   ┆ 3     ┆ 17  ┆ … ┆ 0   ┆ 0   ┆ 0   ┆ 0    │\n",
       "│ putzjj01  ┆ 2014   ┆ 1     ┆ 18  ┆ … ┆ 0   ┆ 0   ┆ 0   ┆ 0    │\n",
       "│ …         ┆ …      ┆ …     ┆ …   ┆ … ┆ …   ┆ …   ┆ …   ┆ …    │\n",
       "│ thatcjo01 ┆ 2013   ┆ 3     ┆ 72  ┆ … ┆ 0   ┆ 0   ┆ 0   ┆ 0    │\n",
       "│ wilsobo02 ┆ 2011   ┆ 1     ┆ 57  ┆ … ┆ 0   ┆ 4   ┆ 2   ┆ 2    │\n",
       "│ grossga01 ┆ 2010   ┆ 1     ┆ 105 ┆ … ┆ 0   ┆ 2   ┆ 2   ┆ 5    │\n",
       "│ hazelje01 ┆ 2016   ┆ 1     ┆ 114 ┆ … ┆ 0   ┆ 4   ┆ 2   ┆ 1    │\n",
       "│ johjike01 ┆ 2006   ┆ 1     ┆ 144 ┆ … ┆ 13  ┆ 0   ┆ 3   ┆ 15   │\n",
       "└───────────┴────────┴───────┴─────┴───┴─────┴─────┴─────┴──────┘"
      ]
     },
     "execution_count": 32,
     "metadata": {},
     "output_type": "execute_result"
    }
   ],
   "source": [
    "# Read in and Clean Batting Data\n",
    "# Reading and cleaning the Batting.csv file for data between 2006-2016\n",
    "batting = pl.read_csv(\"./data/lahman_1871-2023_csv/Batting.csv\")\n",
    "batting_clean = (batting\n",
    "                 .filter(pl.col('yearID') >= 2006,\n",
    "                         pl.col('yearID') <= 2016)\n",
    "                 .group_by(['playerID','yearID'])\n",
    "                 .sum()\n",
    "                 .drop(['teamID','lgID','G_old'])\n",
    "                )\n",
    "batting_clean\n"
   ]
  },
  {
   "cell_type": "code",
   "execution_count": 33,
   "id": "53f75868-e08c-419c-b431-bb8309325b84",
   "metadata": {},
   "outputs": [
    {
     "data": {
      "text/html": [
       "<div><style>\n",
       ".dataframe > thead > tr,\n",
       ".dataframe > tbody > tr {\n",
       "  text-align: right;\n",
       "  white-space: pre-wrap;\n",
       "}\n",
       "</style>\n",
       "<small>shape: (14_135, 10)</small><table border=\"1\" class=\"dataframe\"><thead><tr><th>playerID</th><th>yearID</th><th>stint</th><th>G</th><th>GS</th><th>InnOuts</th><th>PO</th><th>A</th><th>E</th><th>DP</th></tr><tr><td>str</td><td>i64</td><td>i64</td><td>i64</td><td>i64</td><td>i64</td><td>i64</td><td>i64</td><td>i64</td><td>i64</td></tr></thead><tbody><tr><td>&quot;resopch01&quot;</td><td>2013</td><td>1</td><td>18</td><td>0</td><td>54</td><td>1</td><td>1</td><td>0</td><td>0</td></tr><tr><td>&quot;godfrgr01&quot;</td><td>2011</td><td>1</td><td>5</td><td>4</td><td>75</td><td>3</td><td>4</td><td>0</td><td>0</td></tr><tr><td>&quot;rodried05&quot;</td><td>2016</td><td>1</td><td>20</td><td>20</td><td>321</td><td>4</td><td>11</td><td>1</td><td>1</td></tr><tr><td>&quot;wellsca01&quot;</td><td>2013</td><td>11</td><td>33</td><td>18</td><td>599</td><td>46</td><td>2</td><td>1</td><td>2</td></tr><tr><td>&quot;cartech01&quot;</td><td>2008</td><td>1</td><td>3</td><td>1</td><td>51</td><td>3</td><td>0</td><td>0</td><td>0</td></tr><tr><td>&hellip;</td><td>&hellip;</td><td>&hellip;</td><td>&hellip;</td><td>&hellip;</td><td>&hellip;</td><td>&hellip;</td><td>&hellip;</td><td>&hellip;</td><td>&hellip;</td></tr><tr><td>&quot;machama01&quot;</td><td>2013</td><td>1</td><td>156</td><td>156</td><td>4170</td><td>116</td><td>355</td><td>13</td><td>42</td></tr><tr><td>&quot;marksma01&quot;</td><td>2016</td><td>1</td><td>4</td><td>0</td><td>10</td><td>0</td><td>0</td><td>0</td><td>0</td></tr><tr><td>&quot;freesda01&quot;</td><td>2009</td><td>3</td><td>11</td><td>5</td><td>139</td><td>14</td><td>5</td><td>0</td><td>2</td></tr><tr><td>&quot;gomesjo01&quot;</td><td>2012</td><td>1</td><td>42</td><td>28</td><td>845</td><td>65</td><td>1</td><td>2</td><td>0</td></tr><tr><td>&quot;egberja01&quot;</td><td>2012</td><td>1</td><td>1</td><td>0</td><td>2</td><td>0</td><td>0</td><td>0</td><td>0</td></tr></tbody></table></div>"
      ],
      "text/plain": [
       "shape: (14_135, 10)\n",
       "┌───────────┬────────┬───────┬─────┬───┬─────┬─────┬─────┬─────┐\n",
       "│ playerID  ┆ yearID ┆ stint ┆ G   ┆ … ┆ PO  ┆ A   ┆ E   ┆ DP  │\n",
       "│ ---       ┆ ---    ┆ ---   ┆ --- ┆   ┆ --- ┆ --- ┆ --- ┆ --- │\n",
       "│ str       ┆ i64    ┆ i64   ┆ i64 ┆   ┆ i64 ┆ i64 ┆ i64 ┆ i64 │\n",
       "╞═══════════╪════════╪═══════╪═════╪═══╪═════╪═════╪═════╪═════╡\n",
       "│ resopch01 ┆ 2013   ┆ 1     ┆ 18  ┆ … ┆ 1   ┆ 1   ┆ 0   ┆ 0   │\n",
       "│ godfrgr01 ┆ 2011   ┆ 1     ┆ 5   ┆ … ┆ 3   ┆ 4   ┆ 0   ┆ 0   │\n",
       "│ rodried05 ┆ 2016   ┆ 1     ┆ 20  ┆ … ┆ 4   ┆ 11  ┆ 1   ┆ 1   │\n",
       "│ wellsca01 ┆ 2013   ┆ 11    ┆ 33  ┆ … ┆ 46  ┆ 2   ┆ 1   ┆ 2   │\n",
       "│ cartech01 ┆ 2008   ┆ 1     ┆ 3   ┆ … ┆ 3   ┆ 0   ┆ 0   ┆ 0   │\n",
       "│ …         ┆ …      ┆ …     ┆ …   ┆ … ┆ …   ┆ …   ┆ …   ┆ …   │\n",
       "│ machama01 ┆ 2013   ┆ 1     ┆ 156 ┆ … ┆ 116 ┆ 355 ┆ 13  ┆ 42  │\n",
       "│ marksma01 ┆ 2016   ┆ 1     ┆ 4   ┆ … ┆ 0   ┆ 0   ┆ 0   ┆ 0   │\n",
       "│ freesda01 ┆ 2009   ┆ 3     ┆ 11  ┆ … ┆ 14  ┆ 5   ┆ 0   ┆ 2   │\n",
       "│ gomesjo01 ┆ 2012   ┆ 1     ┆ 42  ┆ … ┆ 65  ┆ 1   ┆ 2   ┆ 0   │\n",
       "│ egberja01 ┆ 2012   ┆ 1     ┆ 1   ┆ … ┆ 0   ┆ 0   ┆ 0   ┆ 0   │\n",
       "└───────────┴────────┴───────┴─────┴───┴─────┴─────┴─────┴─────┘"
      ]
     },
     "execution_count": 33,
     "metadata": {},
     "output_type": "execute_result"
    }
   ],
   "source": [
    "#Read in and Clean Fielding Data\n",
    "# Cleaning the Fielding.csv file for data between 2006-2016\n",
    "fielding_agg = (fielding\n",
    "                .filter(pl.col('yearID') >= 2006,\n",
    "                         pl.col('yearID') <= 2016)\n",
    "                 .group_by(['playerID','yearID'])\n",
    "                 .sum()\n",
    "                .drop(['teamID','lgID','POS','PB','WP','SB','CS','ZR'])\n",
    "               )\n",
    "fielding_agg\n"
   ]
  },
  {
   "cell_type": "code",
   "execution_count": 34,
   "id": "3eec26a6-dde0-45ea-926d-3dfa9e68974a",
   "metadata": {},
   "outputs": [
    {
     "data": {
      "text/html": [
       "<div><style>\n",
       ".dataframe > thead > tr,\n",
       ".dataframe > tbody > tr {\n",
       "  text-align: right;\n",
       "  white-space: pre-wrap;\n",
       "}\n",
       "</style>\n",
       "<small>shape: (7_423, 28)</small><table border=\"1\" class=\"dataframe\"><thead><tr><th>playerID</th><th>yearID</th><th>stint</th><th>W</th><th>L</th><th>G</th><th>GS</th><th>CG</th><th>SHO</th><th>SV</th><th>IPouts</th><th>H</th><th>ER</th><th>HR</th><th>BB</th><th>SO</th><th>BAOpp</th><th>ERA</th><th>IBB</th><th>WP</th><th>HBP</th><th>BK</th><th>BFP</th><th>GF</th><th>R</th><th>SH</th><th>SF</th><th>GIDP</th></tr><tr><td>str</td><td>i64</td><td>i64</td><td>i64</td><td>i64</td><td>i64</td><td>i64</td><td>i64</td><td>i64</td><td>i64</td><td>i64</td><td>i64</td><td>i64</td><td>i64</td><td>i64</td><td>i64</td><td>f64</td><td>f64</td><td>i64</td><td>i64</td><td>i64</td><td>i64</td><td>i64</td><td>i64</td><td>i64</td><td>i64</td><td>i64</td><td>i64</td></tr></thead><tbody><tr><td>&quot;furbuch01&quot;</td><td>2015</td><td>1</td><td>1</td><td>1</td><td>33</td><td>0</td><td>0</td><td>0</td><td>0</td><td>65</td><td>9</td><td>5</td><td>2</td><td>5</td><td>17</td><td>0.122</td><td>2.08</td><td>2</td><td>5</td><td>2</td><td>0</td><td>82</td><td>4</td><td>6</td><td>1</td><td>0</td><td>0</td></tr><tr><td>&quot;mateoma01&quot;</td><td>2011</td><td>1</td><td>1</td><td>2</td><td>23</td><td>0</td><td>0</td><td>0</td><td>0</td><td>69</td><td>24</td><td>11</td><td>2</td><td>10</td><td>25</td><td>0.276</td><td>4.3</td><td>0</td><td>1</td><td>0</td><td>0</td><td>98</td><td>8</td><td>11</td><td>1</td><td>0</td><td>2</td></tr><tr><td>&quot;drabeky01&quot;</td><td>2013</td><td>1</td><td>0</td><td>0</td><td>3</td><td>0</td><td>0</td><td>0</td><td>0</td><td>7</td><td>4</td><td>2</td><td>1</td><td>2</td><td>3</td><td>0.364</td><td>7.71</td><td>0</td><td>0</td><td>1</td><td>0</td><td>14</td><td>1</td><td>2</td><td>0</td><td>0</td><td>0</td></tr><tr><td>&quot;ohlenro01&quot;</td><td>2010</td><td>1</td><td>1</td><td>11</td><td>21</td><td>21</td><td>0</td><td>0</td><td>0</td><td>325</td><td>106</td><td>49</td><td>12</td><td>44</td><td>79</td><td>0.26</td><td>4.07</td><td>2</td><td>5</td><td>6</td><td>0</td><td>475</td><td>0</td><td>54</td><td>9</td><td>8</td><td>1</td></tr><tr><td>&quot;marksju01&quot;</td><td>2014</td><td>1</td><td>0</td><td>0</td><td>1</td><td>0</td><td>0</td><td>0</td><td>0</td><td>6</td><td>4</td><td>3</td><td>0</td><td>3</td><td>2</td><td>0.4</td><td>13.5</td><td>0</td><td>0</td><td>0</td><td>0</td><td>13</td><td>0</td><td>3</td><td>0</td><td>0</td><td>0</td></tr><tr><td>&hellip;</td><td>&hellip;</td><td>&hellip;</td><td>&hellip;</td><td>&hellip;</td><td>&hellip;</td><td>&hellip;</td><td>&hellip;</td><td>&hellip;</td><td>&hellip;</td><td>&hellip;</td><td>&hellip;</td><td>&hellip;</td><td>&hellip;</td><td>&hellip;</td><td>&hellip;</td><td>&hellip;</td><td>&hellip;</td><td>&hellip;</td><td>&hellip;</td><td>&hellip;</td><td>&hellip;</td><td>&hellip;</td><td>&hellip;</td><td>&hellip;</td><td>&hellip;</td><td>&hellip;</td><td>&hellip;</td></tr><tr><td>&quot;lopezre01&quot;</td><td>2016</td><td>1</td><td>5</td><td>3</td><td>11</td><td>6</td><td>0</td><td>0</td><td>0</td><td>132</td><td>47</td><td>24</td><td>4</td><td>22</td><td>42</td><td>0.272</td><td>4.91</td><td>2</td><td>5</td><td>0</td><td>0</td><td>201</td><td>1</td><td>27</td><td>3</td><td>2</td><td>1</td></tr><tr><td>&quot;kellesh01&quot;</td><td>2013</td><td>1</td><td>4</td><td>2</td><td>57</td><td>0</td><td>0</td><td>0</td><td>0</td><td>160</td><td>47</td><td>26</td><td>8</td><td>23</td><td>71</td><td>0.233</td><td>4.39</td><td>2</td><td>8</td><td>0</td><td>0</td><td>227</td><td>13</td><td>28</td><td>0</td><td>2</td><td>1</td></tr><tr><td>&quot;kensilo01&quot;</td><td>2015</td><td>1</td><td>2</td><td>1</td><td>19</td><td>0</td><td>0</td><td>0</td><td>0</td><td>46</td><td>12</td><td>10</td><td>2</td><td>7</td><td>13</td><td>0.214</td><td>5.87</td><td>0</td><td>2</td><td>0</td><td>0</td><td>64</td><td>4</td><td>10</td><td>0</td><td>1</td><td>1</td></tr><tr><td>&quot;roberna01&quot;</td><td>2010</td><td>3</td><td>6</td><td>8</td><td>21</td><td>18</td><td>0</td><td>0</td><td>0</td><td>304</td><td>115</td><td>67</td><td>12</td><td>42</td><td>63</td><td>0.908</td><td>59.47</td><td>1</td><td>2</td><td>6</td><td>1</td><td>460</td><td>2</td><td>76</td><td>9</td><td>6</td><td>8</td></tr><tr><td>&quot;gonzagi01&quot;</td><td>2013</td><td>1</td><td>11</td><td>8</td><td>32</td><td>32</td><td>1</td><td>1</td><td>0</td><td>587</td><td>169</td><td>73</td><td>17</td><td>76</td><td>192</td><td>0.231</td><td>3.36</td><td>1</td><td>4</td><td>2</td><td>1</td><td>819</td><td>0</td><td>79</td><td>7</td><td>1</td><td>14</td></tr></tbody></table></div>"
      ],
      "text/plain": [
       "shape: (7_423, 28)\n",
       "┌───────────┬────────┬───────┬─────┬───┬─────┬─────┬─────┬──────┐\n",
       "│ playerID  ┆ yearID ┆ stint ┆ W   ┆ … ┆ R   ┆ SH  ┆ SF  ┆ GIDP │\n",
       "│ ---       ┆ ---    ┆ ---   ┆ --- ┆   ┆ --- ┆ --- ┆ --- ┆ ---  │\n",
       "│ str       ┆ i64    ┆ i64   ┆ i64 ┆   ┆ i64 ┆ i64 ┆ i64 ┆ i64  │\n",
       "╞═══════════╪════════╪═══════╪═════╪═══╪═════╪═════╪═════╪══════╡\n",
       "│ furbuch01 ┆ 2015   ┆ 1     ┆ 1   ┆ … ┆ 6   ┆ 1   ┆ 0   ┆ 0    │\n",
       "│ mateoma01 ┆ 2011   ┆ 1     ┆ 1   ┆ … ┆ 11  ┆ 1   ┆ 0   ┆ 2    │\n",
       "│ drabeky01 ┆ 2013   ┆ 1     ┆ 0   ┆ … ┆ 2   ┆ 0   ┆ 0   ┆ 0    │\n",
       "│ ohlenro01 ┆ 2010   ┆ 1     ┆ 1   ┆ … ┆ 54  ┆ 9   ┆ 8   ┆ 1    │\n",
       "│ marksju01 ┆ 2014   ┆ 1     ┆ 0   ┆ … ┆ 3   ┆ 0   ┆ 0   ┆ 0    │\n",
       "│ …         ┆ …      ┆ …     ┆ …   ┆ … ┆ …   ┆ …   ┆ …   ┆ …    │\n",
       "│ lopezre01 ┆ 2016   ┆ 1     ┆ 5   ┆ … ┆ 27  ┆ 3   ┆ 2   ┆ 1    │\n",
       "│ kellesh01 ┆ 2013   ┆ 1     ┆ 4   ┆ … ┆ 28  ┆ 0   ┆ 2   ┆ 1    │\n",
       "│ kensilo01 ┆ 2015   ┆ 1     ┆ 2   ┆ … ┆ 10  ┆ 0   ┆ 1   ┆ 1    │\n",
       "│ roberna01 ┆ 2010   ┆ 3     ┆ 6   ┆ … ┆ 76  ┆ 9   ┆ 6   ┆ 8    │\n",
       "│ gonzagi01 ┆ 2013   ┆ 1     ┆ 11  ┆ … ┆ 79  ┆ 7   ┆ 1   ┆ 14   │\n",
       "└───────────┴────────┴───────┴─────┴───┴─────┴─────┴─────┴──────┘"
      ]
     },
     "execution_count": 34,
     "metadata": {},
     "output_type": "execute_result"
    }
   ],
   "source": [
    "#Read in and Clean Pitching Data\n",
    "# Reading and cleaning the Pitching.csv file for data between 2006-2016\n",
    "pitching = pl.read_csv(\"./data/lahman_1871-2023_csv/Pitching.csv\")\n",
    "pitching_clean = (pitching\n",
    "                  .filter(pl.col('yearID') >= 2006,\n",
    "                          pl.col('yearID') <= 2016)\n",
    "                  .group_by(['playerID','yearID'])\n",
    "                  .sum()\n",
    "                  .drop(['teamID','lgID'])\n",
    "                 )\n",
    "pitching_clean\n"
   ]
  },
  {
   "cell_type": "code",
   "execution_count": 36,
   "id": "404c6a37-4e8d-4b79-9c31-9f028f26031d",
   "metadata": {},
   "outputs": [
    {
     "data": {
      "text/html": [
       "<div><style>\n",
       ".dataframe > thead > tr,\n",
       ".dataframe > tbody > tr {\n",
       "  text-align: right;\n",
       "  white-space: pre-wrap;\n",
       "}\n",
       "</style>\n",
       "<small>shape: (14_230, 59)</small><table border=\"1\" class=\"dataframe\"><thead><tr><th>playerID</th><th>yearID</th><th>stint</th><th>G</th><th>G_batting</th><th>AB</th><th>R</th><th>H</th><th>2B</th><th>3B</th><th>HR</th><th>RBI</th><th>SB</th><th>CS</th><th>BB</th><th>SO</th><th>IBB</th><th>HBP</th><th>SH</th><th>SF</th><th>GIDP</th><th>playerID_fielding</th><th>yearID_fielding</th><th>stint_fielding</th><th>G_fielding</th><th>GS</th><th>InnOuts</th><th>PO</th><th>A</th><th>E</th><th>DP</th><th>playerID_pitching</th><th>yearID_pitching</th><th>stint_pitching</th><th>W</th><th>L</th><th>G_pitching</th><th>GS_pitching</th><th>CG</th><th>SHO</th><th>SV</th><th>IPouts</th><th>H_pitching</th><th>ER</th><th>HR_pitching</th><th>BB_pitching</th><th>SO_pitching</th><th>BAOpp</th><th>ERA</th><th>IBB_pitching</th><th>WP</th><th>HBP_pitching</th><th>BK</th><th>BFP</th><th>GF</th><th>R_pitching</th><th>SH_pitching</th><th>SF_pitching</th><th>GIDP_pitching</th></tr><tr><td>str</td><td>i64</td><td>i64</td><td>i64</td><td>i64</td><td>i64</td><td>i64</td><td>i64</td><td>i64</td><td>i64</td><td>i64</td><td>i64</td><td>i64</td><td>i64</td><td>i64</td><td>i64</td><td>i64</td><td>i64</td><td>i64</td><td>i64</td><td>i64</td><td>str</td><td>i64</td><td>i64</td><td>i64</td><td>i64</td><td>i64</td><td>i64</td><td>i64</td><td>i64</td><td>i64</td><td>str</td><td>i64</td><td>i64</td><td>i64</td><td>i64</td><td>i64</td><td>i64</td><td>i64</td><td>i64</td><td>i64</td><td>i64</td><td>i64</td><td>i64</td><td>i64</td><td>i64</td><td>i64</td><td>f64</td><td>f64</td><td>i64</td><td>i64</td><td>i64</td><td>i64</td><td>i64</td><td>i64</td><td>i64</td><td>i64</td><td>i64</td><td>i64</td></tr></thead><tbody><tr><td>&quot;soriajo01&quot;</td><td>2011</td><td>1</td><td>60</td><td>0</td><td>0</td><td>0</td><td>0</td><td>0</td><td>0</td><td>0</td><td>0</td><td>0</td><td>0</td><td>0</td><td>0</td><td>0</td><td>0</td><td>0</td><td>0</td><td>0</td><td>&quot;soriajo01&quot;</td><td>2011</td><td>1</td><td>60</td><td>0</td><td>181</td><td>1</td><td>11</td><td>0</td><td>1</td><td>&quot;soriajo01&quot;</td><td>2011</td><td>1</td><td>5</td><td>5</td><td>60</td><td>0</td><td>0</td><td>0</td><td>28</td><td>181</td><td>60</td><td>27</td><td>7</td><td>17</td><td>60</td><td>0.259</td><td>4.03</td><td>0</td><td>1</td><td>2</td><td>0</td><td>256</td><td>47</td><td>29</td><td>3</td><td>2</td><td>7</td></tr><tr><td>&quot;roberry01&quot;</td><td>2010</td><td>1</td><td>36</td><td>0</td><td>66</td><td>8</td><td>13</td><td>4</td><td>0</td><td>2</td><td>9</td><td>0</td><td>0</td><td>3</td><td>17</td><td>1</td><td>0</td><td>1</td><td>1</td><td>0</td><td>&quot;roberry01&quot;</td><td>2010</td><td>3</td><td>17</td><td>11</td><td>308</td><td>20</td><td>6</td><td>0</td><td>2</td><td>null</td><td>null</td><td>null</td><td>null</td><td>null</td><td>null</td><td>null</td><td>null</td><td>null</td><td>null</td><td>null</td><td>null</td><td>null</td><td>null</td><td>null</td><td>null</td><td>null</td><td>null</td><td>null</td><td>null</td><td>null</td><td>null</td><td>null</td><td>null</td><td>null</td><td>null</td><td>null</td><td>null</td></tr><tr><td>&quot;greinza01&quot;</td><td>2006</td><td>1</td><td>3</td><td>0</td><td>0</td><td>0</td><td>0</td><td>0</td><td>0</td><td>0</td><td>0</td><td>0</td><td>0</td><td>0</td><td>0</td><td>0</td><td>0</td><td>0</td><td>0</td><td>0</td><td>&quot;greinza01&quot;</td><td>2006</td><td>1</td><td>3</td><td>0</td><td>19</td><td>0</td><td>1</td><td>0</td><td>0</td><td>&quot;greinza01&quot;</td><td>2006</td><td>1</td><td>1</td><td>0</td><td>3</td><td>0</td><td>0</td><td>0</td><td>0</td><td>19</td><td>7</td><td>3</td><td>1</td><td>3</td><td>5</td><td>0.28</td><td>4.26</td><td>2</td><td>0</td><td>0</td><td>0</td><td>28</td><td>1</td><td>3</td><td>0</td><td>0</td><td>0</td></tr><tr><td>&quot;wagnebi02&quot;</td><td>2009</td><td>3</td><td>17</td><td>0</td><td>0</td><td>0</td><td>0</td><td>0</td><td>0</td><td>0</td><td>0</td><td>0</td><td>0</td><td>0</td><td>0</td><td>0</td><td>0</td><td>0</td><td>0</td><td>0</td><td>&quot;wagnebi02&quot;</td><td>2009</td><td>3</td><td>17</td><td>0</td><td>47</td><td>0</td><td>2</td><td>0</td><td>0</td><td>&quot;wagnebi02&quot;</td><td>2009</td><td>3</td><td>1</td><td>1</td><td>17</td><td>0</td><td>0</td><td>0</td><td>0</td><td>47</td><td>8</td><td>3</td><td>1</td><td>8</td><td>26</td><td>0.174</td><td>1.98</td><td>0</td><td>1</td><td>1</td><td>0</td><td>63</td><td>2</td><td>5</td><td>2</td><td>0</td><td>1</td></tr><tr><td>&quot;putzjj01&quot;</td><td>2014</td><td>1</td><td>18</td><td>0</td><td>0</td><td>0</td><td>0</td><td>0</td><td>0</td><td>0</td><td>0</td><td>0</td><td>0</td><td>0</td><td>0</td><td>0</td><td>0</td><td>0</td><td>0</td><td>0</td><td>&quot;putzjj01&quot;</td><td>2014</td><td>1</td><td>18</td><td>0</td><td>41</td><td>0</td><td>2</td><td>0</td><td>1</td><td>&quot;putzjj01&quot;</td><td>2014</td><td>1</td><td>1</td><td>1</td><td>18</td><td>0</td><td>0</td><td>0</td><td>0</td><td>41</td><td>17</td><td>10</td><td>1</td><td>6</td><td>14</td><td>0.315</td><td>6.59</td><td>1</td><td>2</td><td>1</td><td>0</td><td>62</td><td>8</td><td>10</td><td>0</td><td>1</td><td>1</td></tr><tr><td>&hellip;</td><td>&hellip;</td><td>&hellip;</td><td>&hellip;</td><td>&hellip;</td><td>&hellip;</td><td>&hellip;</td><td>&hellip;</td><td>&hellip;</td><td>&hellip;</td><td>&hellip;</td><td>&hellip;</td><td>&hellip;</td><td>&hellip;</td><td>&hellip;</td><td>&hellip;</td><td>&hellip;</td><td>&hellip;</td><td>&hellip;</td><td>&hellip;</td><td>&hellip;</td><td>&hellip;</td><td>&hellip;</td><td>&hellip;</td><td>&hellip;</td><td>&hellip;</td><td>&hellip;</td><td>&hellip;</td><td>&hellip;</td><td>&hellip;</td><td>&hellip;</td><td>&hellip;</td><td>&hellip;</td><td>&hellip;</td><td>&hellip;</td><td>&hellip;</td><td>&hellip;</td><td>&hellip;</td><td>&hellip;</td><td>&hellip;</td><td>&hellip;</td><td>&hellip;</td><td>&hellip;</td><td>&hellip;</td><td>&hellip;</td><td>&hellip;</td><td>&hellip;</td><td>&hellip;</td><td>&hellip;</td><td>&hellip;</td><td>&hellip;</td><td>&hellip;</td><td>&hellip;</td><td>&hellip;</td><td>&hellip;</td><td>&hellip;</td><td>&hellip;</td><td>&hellip;</td><td>&hellip;</td></tr><tr><td>&quot;thatcjo01&quot;</td><td>2013</td><td>3</td><td>72</td><td>0</td><td>0</td><td>0</td><td>0</td><td>0</td><td>0</td><td>0</td><td>0</td><td>0</td><td>0</td><td>0</td><td>0</td><td>0</td><td>0</td><td>0</td><td>0</td><td>0</td><td>&quot;thatcjo01&quot;</td><td>2013</td><td>3</td><td>72</td><td>0</td><td>118</td><td>0</td><td>4</td><td>0</td><td>0</td><td>&quot;thatcjo01&quot;</td><td>2013</td><td>3</td><td>3</td><td>2</td><td>72</td><td>0</td><td>0</td><td>0</td><td>0</td><td>118</td><td>40</td><td>14</td><td>4</td><td>10</td><td>36</td><td>0.586</td><td>8.85</td><td>0</td><td>3</td><td>1</td><td>0</td><td>164</td><td>16</td><td>14</td><td>1</td><td>2</td><td>5</td></tr><tr><td>&quot;wilsobo02&quot;</td><td>2011</td><td>1</td><td>57</td><td>0</td><td>111</td><td>5</td><td>21</td><td>8</td><td>0</td><td>1</td><td>8</td><td>0</td><td>2</td><td>10</td><td>16</td><td>1</td><td>0</td><td>4</td><td>2</td><td>2</td><td>&quot;wilsobo02&quot;</td><td>2011</td><td>2</td><td>53</td><td>35</td><td>984</td><td>246</td><td>26</td><td>1</td><td>2</td><td>null</td><td>null</td><td>null</td><td>null</td><td>null</td><td>null</td><td>null</td><td>null</td><td>null</td><td>null</td><td>null</td><td>null</td><td>null</td><td>null</td><td>null</td><td>null</td><td>null</td><td>null</td><td>null</td><td>null</td><td>null</td><td>null</td><td>null</td><td>null</td><td>null</td><td>null</td><td>null</td><td>null</td></tr><tr><td>&quot;grossga01&quot;</td><td>2010</td><td>1</td><td>105</td><td>0</td><td>222</td><td>27</td><td>53</td><td>11</td><td>1</td><td>1</td><td>25</td><td>5</td><td>1</td><td>17</td><td>39</td><td>2</td><td>0</td><td>2</td><td>2</td><td>5</td><td>&quot;grossga01&quot;</td><td>2010</td><td>1</td><td>95</td><td>52</td><td>1653</td><td>112</td><td>6</td><td>1</td><td>0</td><td>null</td><td>null</td><td>null</td><td>null</td><td>null</td><td>null</td><td>null</td><td>null</td><td>null</td><td>null</td><td>null</td><td>null</td><td>null</td><td>null</td><td>null</td><td>null</td><td>null</td><td>null</td><td>null</td><td>null</td><td>null</td><td>null</td><td>null</td><td>null</td><td>null</td><td>null</td><td>null</td><td>null</td></tr><tr><td>&quot;hazelje01&quot;</td><td>2016</td><td>1</td><td>114</td><td>0</td><td>200</td><td>35</td><td>47</td><td>7</td><td>3</td><td>12</td><td>28</td><td>5</td><td>2</td><td>18</td><td>64</td><td>2</td><td>0</td><td>4</td><td>2</td><td>1</td><td>&quot;hazelje01&quot;</td><td>2016</td><td>1</td><td>73</td><td>38</td><td>1207</td><td>79</td><td>0</td><td>4</td><td>0</td><td>null</td><td>null</td><td>null</td><td>null</td><td>null</td><td>null</td><td>null</td><td>null</td><td>null</td><td>null</td><td>null</td><td>null</td><td>null</td><td>null</td><td>null</td><td>null</td><td>null</td><td>null</td><td>null</td><td>null</td><td>null</td><td>null</td><td>null</td><td>null</td><td>null</td><td>null</td><td>null</td><td>null</td></tr><tr><td>&quot;johjike01&quot;</td><td>2006</td><td>1</td><td>144</td><td>0</td><td>506</td><td>61</td><td>147</td><td>25</td><td>1</td><td>18</td><td>76</td><td>3</td><td>1</td><td>20</td><td>46</td><td>1</td><td>13</td><td>0</td><td>3</td><td>15</td><td>&quot;johjike01&quot;</td><td>2006</td><td>1</td><td>144</td><td>131</td><td>3518</td><td>882</td><td>58</td><td>7</td><td>9</td><td>null</td><td>null</td><td>null</td><td>null</td><td>null</td><td>null</td><td>null</td><td>null</td><td>null</td><td>null</td><td>null</td><td>null</td><td>null</td><td>null</td><td>null</td><td>null</td><td>null</td><td>null</td><td>null</td><td>null</td><td>null</td><td>null</td><td>null</td><td>null</td><td>null</td><td>null</td><td>null</td><td>null</td></tr></tbody></table></div>"
      ],
      "text/plain": [
       "shape: (14_230, 59)\n",
       "┌───────────┬────────┬───────┬─────┬───┬────────────┬─────────────┬─────────────┬───────────────┐\n",
       "│ playerID  ┆ yearID ┆ stint ┆ G   ┆ … ┆ R_pitching ┆ SH_pitching ┆ SF_pitching ┆ GIDP_pitching │\n",
       "│ ---       ┆ ---    ┆ ---   ┆ --- ┆   ┆ ---        ┆ ---         ┆ ---         ┆ ---           │\n",
       "│ str       ┆ i64    ┆ i64   ┆ i64 ┆   ┆ i64        ┆ i64         ┆ i64         ┆ i64           │\n",
       "╞═══════════╪════════╪═══════╪═════╪═══╪════════════╪═════════════╪═════════════╪═══════════════╡\n",
       "│ soriajo01 ┆ 2011   ┆ 1     ┆ 60  ┆ … ┆ 29         ┆ 3           ┆ 2           ┆ 7             │\n",
       "│ roberry01 ┆ 2010   ┆ 1     ┆ 36  ┆ … ┆ null       ┆ null        ┆ null        ┆ null          │\n",
       "│ greinza01 ┆ 2006   ┆ 1     ┆ 3   ┆ … ┆ 3          ┆ 0           ┆ 0           ┆ 0             │\n",
       "│ wagnebi02 ┆ 2009   ┆ 3     ┆ 17  ┆ … ┆ 5          ┆ 2           ┆ 0           ┆ 1             │\n",
       "│ putzjj01  ┆ 2014   ┆ 1     ┆ 18  ┆ … ┆ 10         ┆ 0           ┆ 1           ┆ 1             │\n",
       "│ …         ┆ …      ┆ …     ┆ …   ┆ … ┆ …          ┆ …           ┆ …           ┆ …             │\n",
       "│ thatcjo01 ┆ 2013   ┆ 3     ┆ 72  ┆ … ┆ 14         ┆ 1           ┆ 2           ┆ 5             │\n",
       "│ wilsobo02 ┆ 2011   ┆ 1     ┆ 57  ┆ … ┆ null       ┆ null        ┆ null        ┆ null          │\n",
       "│ grossga01 ┆ 2010   ┆ 1     ┆ 105 ┆ … ┆ null       ┆ null        ┆ null        ┆ null          │\n",
       "│ hazelje01 ┆ 2016   ┆ 1     ┆ 114 ┆ … ┆ null       ┆ null        ┆ null        ┆ null          │\n",
       "│ johjike01 ┆ 2006   ┆ 1     ┆ 144 ┆ … ┆ null       ┆ null        ┆ null        ┆ null          │\n",
       "└───────────┴────────┴───────┴─────┴───┴────────────┴─────────────┴─────────────┴───────────────┘"
      ]
     },
     "execution_count": 36,
     "metadata": {},
     "output_type": "execute_result"
    }
   ],
   "source": [
    "# Join Batting, Fielding, and Pitching Data\n",
    "batting_fielding_pitching = (batting_clean\n",
    "                             .join(fielding_agg,\n",
    "                                   on=['playerID', 'yearID'],\n",
    "                                   how='full',\n",
    "                                   suffix='_fielding'  # Add suffix for fielding columns to avoid duplicates\n",
    "                                  )\n",
    "                             .join(pitching_clean,\n",
    "                                   on=['playerID', 'yearID'],\n",
    "                                   how='full',\n",
    "                                   suffix='_pitching'  # Add suffix for pitching columns to avoid duplicates\n",
    "                                  )\n",
    "                            )\n",
    "\n",
    "batting_fielding_pitching\n"
   ]
  },
  {
   "cell_type": "code",
   "execution_count": 38,
   "id": "5cb62e75-91f9-4896-bb0e-d07448e5474d",
   "metadata": {},
   "outputs": [
    {
     "data": {
      "text/html": [
       "<div><style>\n",
       ".dataframe > thead > tr,\n",
       ".dataframe > tbody > tr {\n",
       "  text-align: right;\n",
       "  white-space: pre-wrap;\n",
       "}\n",
       "</style>\n",
       "<small>shape: (9_131, 61)</small><table border=\"1\" class=\"dataframe\"><thead><tr><th>playerID</th><th>yearID</th><th>salary</th><th>stint</th><th>G</th><th>G_batting</th><th>AB</th><th>R</th><th>H</th><th>2B</th><th>3B</th><th>HR</th><th>RBI</th><th>SB</th><th>CS</th><th>BB</th><th>SO</th><th>IBB</th><th>HBP</th><th>SH</th><th>SF</th><th>GIDP</th><th>playerID_fielding</th><th>yearID_fielding</th><th>stint_fielding</th><th>G_fielding</th><th>GS</th><th>InnOuts</th><th>PO</th><th>A</th><th>E</th><th>DP</th><th>playerID_pitching</th><th>yearID_pitching</th><th>stint_pitching</th><th>W</th><th>L</th><th>G_pitching</th><th>GS_pitching</th><th>CG</th><th>SHO</th><th>SV</th><th>IPouts</th><th>H_pitching</th><th>ER</th><th>HR_pitching</th><th>BB_pitching</th><th>SO_pitching</th><th>BAOpp</th><th>ERA</th><th>IBB_pitching</th><th>WP</th><th>HBP_pitching</th><th>BK</th><th>BFP</th><th>GF</th><th>R_pitching</th><th>SH_pitching</th><th>SF_pitching</th><th>GIDP_pitching</th><th>Training_Validation</th></tr><tr><td>str</td><td>i64</td><td>f64</td><td>i64</td><td>i64</td><td>i64</td><td>i64</td><td>i64</td><td>i64</td><td>i64</td><td>i64</td><td>i64</td><td>i64</td><td>i64</td><td>i64</td><td>i64</td><td>i64</td><td>i64</td><td>i64</td><td>i64</td><td>i64</td><td>i64</td><td>str</td><td>i64</td><td>i64</td><td>i64</td><td>i64</td><td>i64</td><td>i64</td><td>i64</td><td>i64</td><td>i64</td><td>str</td><td>i64</td><td>i64</td><td>i64</td><td>i64</td><td>i64</td><td>i64</td><td>i64</td><td>i64</td><td>i64</td><td>i64</td><td>i64</td><td>i64</td><td>i64</td><td>i64</td><td>i64</td><td>f64</td><td>f64</td><td>i64</td><td>i64</td><td>i64</td><td>i64</td><td>i64</td><td>i64</td><td>i64</td><td>i64</td><td>i64</td><td>i64</td><td>str</td></tr></thead><tbody><tr><td>&quot;wrighmi01&quot;</td><td>2016</td><td>510500.0</td><td>1</td><td>18</td><td>0</td><td>0</td><td>0</td><td>0</td><td>0</td><td>0</td><td>0</td><td>0</td><td>0</td><td>0</td><td>0</td><td>0</td><td>0</td><td>0</td><td>0</td><td>0</td><td>0</td><td>&quot;wrighmi01&quot;</td><td>2016</td><td>1</td><td>18</td><td>12</td><td>224</td><td>1</td><td>5</td><td>1</td><td>1</td><td>&quot;wrighmi01&quot;</td><td>2016</td><td>1</td><td>3</td><td>4</td><td>18</td><td>12</td><td>0</td><td>0</td><td>0</td><td>224</td><td>81</td><td>48</td><td>12</td><td>26</td><td>50</td><td>0.282</td><td>5.79</td><td>0</td><td>2</td><td>9</td><td>0</td><td>328</td><td>5</td><td>53</td><td>1</td><td>5</td><td>10</td><td>&quot;Validation&quot;</td></tr><tr><td>&quot;millewa04&quot;</td><td>2006</td><td>1e6</td><td>1</td><td>5</td><td>0</td><td>7</td><td>0</td><td>1</td><td>0</td><td>0</td><td>0</td><td>0</td><td>0</td><td>0</td><td>0</td><td>5</td><td>0</td><td>0</td><td>0</td><td>0</td><td>0</td><td>&quot;millewa04&quot;</td><td>2006</td><td>1</td><td>5</td><td>5</td><td>65</td><td>1</td><td>5</td><td>0</td><td>0</td><td>&quot;millewa04&quot;</td><td>2006</td><td>1</td><td>0</td><td>2</td><td>5</td><td>5</td><td>0</td><td>0</td><td>0</td><td>65</td><td>19</td><td>11</td><td>4</td><td>18</td><td>20</td><td>0.232</td><td>4.57</td><td>1</td><td>1</td><td>1</td><td>0</td><td>103</td><td>0</td><td>12</td><td>2</td><td>0</td><td>0</td><td>&quot;Training&quot;</td></tr><tr><td>&quot;boyerbl01&quot;</td><td>2008</td><td>390000.0</td><td>1</td><td>76</td><td>0</td><td>2</td><td>0</td><td>0</td><td>0</td><td>0</td><td>0</td><td>0</td><td>0</td><td>0</td><td>0</td><td>1</td><td>0</td><td>0</td><td>1</td><td>0</td><td>0</td><td>&quot;boyerbl01&quot;</td><td>2008</td><td>1</td><td>76</td><td>0</td><td>216</td><td>1</td><td>8</td><td>0</td><td>0</td><td>&quot;boyerbl01&quot;</td><td>2008</td><td>1</td><td>2</td><td>6</td><td>76</td><td>0</td><td>0</td><td>0</td><td>1</td><td>216</td><td>73</td><td>47</td><td>10</td><td>25</td><td>67</td><td>0.262</td><td>5.88</td><td>4</td><td>2</td><td>2</td><td>0</td><td>313</td><td>18</td><td>51</td><td>3</td><td>4</td><td>2</td><td>&quot;Training&quot;</td></tr><tr><td>&quot;weeksri01&quot;</td><td>2008</td><td>1.056e6</td><td>1</td><td>129</td><td>0</td><td>475</td><td>89</td><td>111</td><td>22</td><td>7</td><td>14</td><td>46</td><td>19</td><td>5</td><td>66</td><td>115</td><td>0</td><td>14</td><td>1</td><td>4</td><td>5</td><td>&quot;weeksri01&quot;</td><td>2008</td><td>1</td><td>120</td><td>118</td><td>3168</td><td>256</td><td>333</td><td>15</td><td>84</td><td>null</td><td>null</td><td>null</td><td>null</td><td>null</td><td>null</td><td>null</td><td>null</td><td>null</td><td>null</td><td>null</td><td>null</td><td>null</td><td>null</td><td>null</td><td>null</td><td>null</td><td>null</td><td>null</td><td>null</td><td>null</td><td>null</td><td>null</td><td>null</td><td>null</td><td>null</td><td>null</td><td>null</td><td>&quot;Training&quot;</td></tr><tr><td>&quot;romerjc01&quot;</td><td>2007</td><td>1.6e6</td><td>3</td><td>74</td><td>0</td><td>1</td><td>0</td><td>0</td><td>0</td><td>0</td><td>0</td><td>0</td><td>0</td><td>0</td><td>0</td><td>0</td><td>0</td><td>0</td><td>0</td><td>0</td><td>0</td><td>&quot;romerjc01&quot;</td><td>2007</td><td>3</td><td>74</td><td>0</td><td>169</td><td>6</td><td>10</td><td>1</td><td>0</td><td>&quot;romerjc01&quot;</td><td>2007</td><td>3</td><td>2</td><td>2</td><td>74</td><td>0</td><td>0</td><td>0</td><td>1</td><td>169</td><td>39</td><td>12</td><td>3</td><td>40</td><td>42</td><td>0.438</td><td>4.39</td><td>5</td><td>4</td><td>2</td><td>0</td><td>237</td><td>10</td><td>12</td><td>1</td><td>1</td><td>11</td><td>&quot;Training&quot;</td></tr><tr><td>&hellip;</td><td>&hellip;</td><td>&hellip;</td><td>&hellip;</td><td>&hellip;</td><td>&hellip;</td><td>&hellip;</td><td>&hellip;</td><td>&hellip;</td><td>&hellip;</td><td>&hellip;</td><td>&hellip;</td><td>&hellip;</td><td>&hellip;</td><td>&hellip;</td><td>&hellip;</td><td>&hellip;</td><td>&hellip;</td><td>&hellip;</td><td>&hellip;</td><td>&hellip;</td><td>&hellip;</td><td>&hellip;</td><td>&hellip;</td><td>&hellip;</td><td>&hellip;</td><td>&hellip;</td><td>&hellip;</td><td>&hellip;</td><td>&hellip;</td><td>&hellip;</td><td>&hellip;</td><td>&hellip;</td><td>&hellip;</td><td>&hellip;</td><td>&hellip;</td><td>&hellip;</td><td>&hellip;</td><td>&hellip;</td><td>&hellip;</td><td>&hellip;</td><td>&hellip;</td><td>&hellip;</td><td>&hellip;</td><td>&hellip;</td><td>&hellip;</td><td>&hellip;</td><td>&hellip;</td><td>&hellip;</td><td>&hellip;</td><td>&hellip;</td><td>&hellip;</td><td>&hellip;</td><td>&hellip;</td><td>&hellip;</td><td>&hellip;</td><td>&hellip;</td><td>&hellip;</td><td>&hellip;</td><td>&hellip;</td><td>&hellip;</td></tr><tr><td>&quot;ankieri01&quot;</td><td>2011</td><td>1.5e6</td><td>1</td><td>122</td><td>0</td><td>380</td><td>46</td><td>91</td><td>20</td><td>0</td><td>9</td><td>37</td><td>10</td><td>3</td><td>29</td><td>96</td><td>1</td><td>2</td><td>3</td><td>1</td><td>7</td><td>&quot;ankieri01&quot;</td><td>2011</td><td>1</td><td>113</td><td>90</td><td>2535</td><td>245</td><td>9</td><td>1</td><td>0</td><td>null</td><td>null</td><td>null</td><td>null</td><td>null</td><td>null</td><td>null</td><td>null</td><td>null</td><td>null</td><td>null</td><td>null</td><td>null</td><td>null</td><td>null</td><td>null</td><td>null</td><td>null</td><td>null</td><td>null</td><td>null</td><td>null</td><td>null</td><td>null</td><td>null</td><td>null</td><td>null</td><td>null</td><td>&quot;Training&quot;</td></tr><tr><td>&quot;janssca01&quot;</td><td>2012</td><td>2e6</td><td>1</td><td>62</td><td>0</td><td>0</td><td>0</td><td>0</td><td>0</td><td>0</td><td>0</td><td>0</td><td>0</td><td>0</td><td>0</td><td>0</td><td>0</td><td>0</td><td>0</td><td>0</td><td>0</td><td>&quot;janssca01&quot;</td><td>2012</td><td>1</td><td>62</td><td>0</td><td>191</td><td>7</td><td>6</td><td>0</td><td>0</td><td>&quot;janssca01&quot;</td><td>2012</td><td>1</td><td>1</td><td>1</td><td>62</td><td>0</td><td>0</td><td>0</td><td>22</td><td>191</td><td>44</td><td>18</td><td>7</td><td>11</td><td>67</td><td>0.195</td><td>2.54</td><td>1</td><td>2</td><td>3</td><td>1</td><td>242</td><td>47</td><td>18</td><td>1</td><td>1</td><td>3</td><td>&quot;Training&quot;</td></tr><tr><td>&quot;phelpda01&quot;</td><td>2015</td><td>1.4e6</td><td>1</td><td>23</td><td>0</td><td>34</td><td>0</td><td>4</td><td>0</td><td>0</td><td>0</td><td>0</td><td>0</td><td>0</td><td>0</td><td>16</td><td>0</td><td>1</td><td>5</td><td>0</td><td>0</td><td>&quot;phelpda01&quot;</td><td>2015</td><td>1</td><td>23</td><td>19</td><td>336</td><td>4</td><td>19</td><td>1</td><td>2</td><td>&quot;phelpda01&quot;</td><td>2015</td><td>1</td><td>4</td><td>8</td><td>23</td><td>19</td><td>0</td><td>0</td><td>0</td><td>336</td><td>119</td><td>56</td><td>11</td><td>33</td><td>77</td><td>0.272</td><td>4.5</td><td>0</td><td>2</td><td>4</td><td>0</td><td>482</td><td>1</td><td>59</td><td>2</td><td>5</td><td>10</td><td>&quot;Training&quot;</td></tr><tr><td>&quot;fuentbr01&quot;</td><td>2009</td><td>8.5e6</td><td>1</td><td>65</td><td>0</td><td>0</td><td>0</td><td>0</td><td>0</td><td>0</td><td>0</td><td>0</td><td>0</td><td>0</td><td>0</td><td>0</td><td>0</td><td>0</td><td>0</td><td>0</td><td>0</td><td>&quot;fuentbr01&quot;</td><td>2009</td><td>1</td><td>65</td><td>0</td><td>165</td><td>1</td><td>6</td><td>0</td><td>0</td><td>&quot;fuentbr01&quot;</td><td>2009</td><td>1</td><td>1</td><td>5</td><td>65</td><td>0</td><td>0</td><td>0</td><td>48</td><td>165</td><td>53</td><td>24</td><td>6</td><td>24</td><td>46</td><td>0.254</td><td>3.93</td><td>2</td><td>1</td><td>5</td><td>0</td><td>242</td><td>57</td><td>24</td><td>2</td><td>2</td><td>4</td><td>&quot;Training&quot;</td></tr><tr><td>&quot;accarje01&quot;</td><td>2011</td><td>1.08e6</td><td>1</td><td>31</td><td>0</td><td>0</td><td>0</td><td>0</td><td>0</td><td>0</td><td>0</td><td>0</td><td>0</td><td>0</td><td>0</td><td>0</td><td>0</td><td>0</td><td>0</td><td>0</td><td>0</td><td>&quot;accarje01&quot;</td><td>2011</td><td>1</td><td>31</td><td>0</td><td>113</td><td>1</td><td>5</td><td>0</td><td>1</td><td>&quot;accarje01&quot;</td><td>2011</td><td>1</td><td>3</td><td>3</td><td>31</td><td>0</td><td>0</td><td>0</td><td>0</td><td>113</td><td>43</td><td>24</td><td>5</td><td>18</td><td>23</td><td>0.295</td><td>5.73</td><td>4</td><td>0</td><td>1</td><td>0</td><td>167</td><td>7</td><td>24</td><td>2</td><td>0</td><td>4</td><td>&quot;Training&quot;</td></tr></tbody></table></div>"
      ],
      "text/plain": [
       "shape: (9_131, 61)\n",
       "┌───────────┬────────┬──────────┬───────┬───┬─────────────┬─────────────┬───────────────┬─────────────────────┐\n",
       "│ playerID  ┆ yearID ┆ salary   ┆ stint ┆ … ┆ SH_pitching ┆ SF_pitching ┆ GIDP_pitching ┆ Training_Validation │\n",
       "│ ---       ┆ ---    ┆ ---      ┆ ---   ┆   ┆ ---         ┆ ---         ┆ ---           ┆ ---                 │\n",
       "│ str       ┆ i64    ┆ f64      ┆ i64   ┆   ┆ i64         ┆ i64         ┆ i64           ┆ str                 │\n",
       "╞═══════════╪════════╪══════════╪═══════╪═══╪═════════════╪═════════════╪═══════════════╪═════════════════════╡\n",
       "│ wrighmi01 ┆ 2016   ┆ 510500.0 ┆ 1     ┆ … ┆ 1           ┆ 5           ┆ 10            ┆ Validation          │\n",
       "│ millewa04 ┆ 2006   ┆ 1e6      ┆ 1     ┆ … ┆ 2           ┆ 0           ┆ 0             ┆ Training            │\n",
       "│ boyerbl01 ┆ 2008   ┆ 390000.0 ┆ 1     ┆ … ┆ 3           ┆ 4           ┆ 2             ┆ Training            │\n",
       "│ weeksri01 ┆ 2008   ┆ 1.056e6  ┆ 1     ┆ … ┆ null        ┆ null        ┆ null          ┆ Training            │\n",
       "│ romerjc01 ┆ 2007   ┆ 1.6e6    ┆ 3     ┆ … ┆ 1           ┆ 1           ┆ 11            ┆ Training            │\n",
       "│ …         ┆ …      ┆ …        ┆ …     ┆ … ┆ …           ┆ …           ┆ …             ┆ …                   │\n",
       "│ ankieri01 ┆ 2011   ┆ 1.5e6    ┆ 1     ┆ … ┆ null        ┆ null        ┆ null          ┆ Training            │\n",
       "│ janssca01 ┆ 2012   ┆ 2e6      ┆ 1     ┆ … ┆ 1           ┆ 1           ┆ 3             ┆ Training            │\n",
       "│ phelpda01 ┆ 2015   ┆ 1.4e6    ┆ 1     ┆ … ┆ 2           ┆ 5           ┆ 10            ┆ Training            │\n",
       "│ fuentbr01 ┆ 2009   ┆ 8.5e6    ┆ 1     ┆ … ┆ 2           ┆ 2           ┆ 4             ┆ Training            │\n",
       "│ accarje01 ┆ 2011   ┆ 1.08e6   ┆ 1     ┆ … ┆ 2           ┆ 0           ┆ 4             ┆ Training            │\n",
       "└───────────┴────────┴──────────┴───────┴───┴─────────────┴─────────────┴───────────────┴─────────────────────┘"
      ]
     },
     "execution_count": 38,
     "metadata": {},
     "output_type": "execute_result"
    }
   ],
   "source": [
    " #Merge Salaries with Performance Data\n",
    "# Joining salaries with batting, fielding, and pitching performance data\n",
    "salaries_df = (salaries_clean\n",
    "               .join(batting_fielding_pitching,\n",
    "                     on=['playerID', 'yearID'],\n",
    "                     how='left')\n",
    "               .with_columns(Training_Validation = pl.when(pl.col('yearID') == 2016)\n",
    "                                                     .then(pl.lit('Validation'))\n",
    "                                                     .otherwise(pl.lit('Training')))\n",
    "              )\n",
    "salaries_df"
   ]
  },
  {
   "cell_type": "code",
   "execution_count": 39,
   "id": "876a8d9e-82e3-49dc-8f11-319c14604985",
   "metadata": {},
   "outputs": [],
   "source": [
    "#Save the Salary Dataset\n",
    "# Save the salaries dataset to a CSV file\n",
    "salaries_df.write_csv(\"./data/salaries_df.csv\")\n"
   ]
  }
 ],
 "metadata": {
  "kernelspec": {
   "display_name": "Python 3 (ipykernel)",
   "language": "python",
   "name": "python3"
  },
  "language_info": {
   "codemirror_mode": {
    "name": "ipython",
    "version": 3
   },
   "file_extension": ".py",
   "mimetype": "text/x-python",
   "name": "python",
   "nbconvert_exporter": "python",
   "pygments_lexer": "ipython3",
   "version": "3.12.5"
  }
 },
 "nbformat": 4,
 "nbformat_minor": 5
}
